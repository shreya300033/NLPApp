{
  "nbformat": 4,
  "nbformat_minor": 0,
  "metadata": {
    "colab": {
      "provenance": []
    },
    "kernelspec": {
      "name": "python3",
      "display_name": "Python 3"
    },
    "language_info": {
      "name": "python"
    }
  },
  "cells": [
    {
      "cell_type": "code",
      "execution_count": null,
      "metadata": {
        "colab": {
          "base_uri": "https://localhost:8080/"
        },
        "id": "mwNGM7G0QGNf",
        "outputId": "486fbcd0-c742-4e7b-d19b-ae90b7d6ec49"
      },
      "outputs": [
        {
          "output_type": "stream",
          "name": "stdout",
          "text": [
            "Collecting nlpcloud\n",
            "  Downloading nlpcloud-1.1.47-py3-none-any.whl.metadata (1.1 kB)\n",
            "Requirement already satisfied: requests in /usr/local/lib/python3.10/dist-packages (from nlpcloud) (2.32.3)\n",
            "Requirement already satisfied: charset-normalizer<4,>=2 in /usr/local/lib/python3.10/dist-packages (from requests->nlpcloud) (3.4.0)\n",
            "Requirement already satisfied: idna<4,>=2.5 in /usr/local/lib/python3.10/dist-packages (from requests->nlpcloud) (3.10)\n",
            "Requirement already satisfied: urllib3<3,>=1.21.1 in /usr/local/lib/python3.10/dist-packages (from requests->nlpcloud) (2.2.3)\n",
            "Requirement already satisfied: certifi>=2017.4.17 in /usr/local/lib/python3.10/dist-packages (from requests->nlpcloud) (2024.8.30)\n",
            "Downloading nlpcloud-1.1.47-py3-none-any.whl (3.9 kB)\n",
            "Installing collected packages: nlpcloud\n",
            "Successfully installed nlpcloud-1.1.47\n"
          ]
        }
      ],
      "source": [
        "!pip install nlpcloud"
      ]
    },
    {
      "cell_type": "code",
      "source": [
        "import nlpcloud\n",
        "class NLPApp:\n",
        "\n",
        "  def __init__(self):\n",
        "\n",
        "    self.__database = {}\n",
        "    self.__first_menu()\n",
        "\n",
        "  def __first_menu(self):\n",
        "\n",
        "      first_input = input(\"\"\"\n",
        "      Hi! How would you like to proceed?\n",
        "      1. Not a member? Register\n",
        "      2. Already a member? Login\n",
        "      3. Exit\n",
        "      \"\"\")\n",
        "\n",
        "      if first_input == '1':\n",
        "        self.__register()\n",
        "      elif first_input == '2':\n",
        "        self.__login()\n",
        "      else:\n",
        "        exit()\n",
        "\n",
        "  def __second_menu(self):\n",
        "    second_input = input(\"\"\"\n",
        "      Hi! How would you like to proceed?\n",
        "      1. NER\n",
        "      2. Language Detection\n",
        "      3. Sentiment Analysis\n",
        "      4. Logout\n",
        "      \"\"\")\n",
        "\n",
        "    if second_input == '1':\n",
        "      self.__ner()\n",
        "    elif second_input == '2':\n",
        "      self.__language_detection()\n",
        "    elif second_input == '3':\n",
        "      self.__sentiment_analysis()\n",
        "    else:\n",
        "      self.__first_menu()\n",
        "\n",
        "\n",
        "  def __register(self):\n",
        "    name = input('Enter name: ')\n",
        "    email = input('Enter email:')\n",
        "    password = input('Enter password:')\n",
        "\n",
        "    if email in self.__database:\n",
        "      print('Email already exists')\n",
        "    else:\n",
        "      self.__database[email] = [name, password]\n",
        "      print('Registration successful. Now login')\n",
        "      self.__login()\n",
        "\n",
        "\n",
        "  def __login(self):\n",
        "    email = input('Enter email:')\n",
        "    password = input('Enter password:')\n",
        "\n",
        "    if email in self.__database:\n",
        "      if password == self.__database[email][1]:\n",
        "        print('Login successful')\n",
        "        self.__second_menu()\n",
        "      else:\n",
        "        print('Incorrect password. Try again')\n",
        "        self.__login()\n",
        "    else:\n",
        "      print('Email does not exist. Please register')\n",
        "      self.__register()\n",
        "\n",
        "  def __ner(self):\n",
        "    para = input('Enter the paragraph: ')\n",
        "    search_term = input('Enter the search term: ')\n",
        "\n",
        "    client = nlpcloud.Client(\"finetuned-gpt-neox-20b\", \"1fb554beae583777c39af5f7156ccc038e4ff7bc\", gpu=True, lang=\"en\")\n",
        "    response = client.entities(para , searched_entity= search_term)\n",
        "\n",
        "    print(response)\n",
        "\n",
        "  def __sentiment_analysis(self):\n",
        "    para = input('Enter the paragraph: ')\n",
        "\n",
        "    client = nlpcloud.Client(\"finetuned-llama-3-70b\", \"1fb554beae583777c39af5f7156ccc038e4ff7bc\", gpu=True)\n",
        "    response = client.sentiment(para, target=\"NLP Cloud\")\n",
        "\n",
        "    L = []\n",
        "    for i in response['scored_labels']:\n",
        "      L.append(i['score'])\n",
        "\n",
        "      index = sorted(list(enumerate(L)),key=lambda x:x[1],reverse=True)[0][0]\n",
        "\n",
        "      print(response['scored_labels'][index]['label'])\n",
        "      self.__second_menu()\n",
        "\n",
        "\n",
        "obj = NLPApp()"
      ],
      "metadata": {
        "colab": {
          "base_uri": "https://localhost:8080/"
        },
        "id": "CDPDiezESRkM",
        "outputId": "139db436-19b4-4d84-c1a4-8e8c0fb501ca"
      },
      "execution_count": null,
      "outputs": [
        {
          "output_type": "stream",
          "name": "stdout",
          "text": [
            " \n",
            "      Hi! How would you like to proceed?\n",
            "      1. Not a member? Register\n",
            "      2. Already a member? Login\n",
            "      3. Exit\n",
            "      1\n",
            "Enter name: shreya\n",
            "Enter email:shreya@gmail.com\n",
            "Enter password:1234\n",
            "Registration successful. Now login\n",
            " \n",
            "      Hi! How would you like to proceed?\n",
            "      1. NER\n",
            "      2. Language Detection\n",
            "      3. Sentiment Analysis\n",
            "      4. Logout\n",
            "      1\n",
            "Enter the paragraph: John Doe started learning Javascript when he was 15 years old. After a couple of years he switched to Python and starter learning low level programming. He is now a Go expert at Google.\n",
            "Enter the search term: programming languages\n",
            "{'entities': [{'start': 26, 'end': 36, 'type': 'programming languages', 'text': 'Javascript'}, {'start': 102, 'end': 108, 'type': 'programming languages', 'text': 'Python'}, {'start': 165, 'end': 167, 'type': 'programming languages', 'text': 'Go'}]}\n"
          ]
        }
      ]
    }
  ]
}